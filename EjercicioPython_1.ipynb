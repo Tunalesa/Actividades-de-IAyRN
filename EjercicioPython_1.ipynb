{
  "nbformat": 4,
  "nbformat_minor": 0,
  "metadata": {
    "colab": {
      "provenance": [],
      "authorship_tag": "ABX9TyP6qY+9Rpe6oxhImMm9NPXr",
      "include_colab_link": true
    },
    "kernelspec": {
      "name": "python3",
      "display_name": "Python 3"
    },
    "language_info": {
      "name": "python"
    }
  },
  "cells": [
    {
      "cell_type": "markdown",
      "metadata": {
        "id": "view-in-github",
        "colab_type": "text"
      },
      "source": [
        "<a href=\"https://colab.research.google.com/github/Tunalesa/Actividades-de-IAyRN/blob/main/EjercicioPython_1.ipynb\" target=\"_parent\"><img src=\"https://colab.research.google.com/assets/colab-badge.svg\" alt=\"Open In Colab\"/></a>"
      ]
    },
    {
      "cell_type": "markdown",
      "source": [
        "A2.- Ejercicios en Python Maria de los Angeles Tunales López 2077818 N1"
      ],
      "metadata": {
        "id": "mXdpAL_DonMq"
      }
    },
    {
      "cell_type": "code",
      "execution_count": 1,
      "metadata": {
        "colab": {
          "base_uri": "https://localhost:8080/"
        },
        "id": "GlL7S9ahnun5",
        "outputId": "d9e7dac8-6855-4931-c010-1d5b21bf7442"
      },
      "outputs": [
        {
          "output_type": "stream",
          "name": "stdout",
          "text": [
            "por favor ingresa un número77\n",
            "El número que ingresaste es impar\n"
          ]
        }
      ],
      "source": [
        "#Escribe un programa que solicite al usuario un número y que indique si es par o impar.\n",
        "numero = int(input(\"por favor ingresa un número\"))\n",
        "\n",
        "if numero % 2 == 0:\n",
        "\n",
        "    print(\"El número que ingresaste es par\")\n",
        "\n",
        "else:\n",
        "\n",
        "\n",
        "     print(\"El número que ingresaste es impar\")"
      ]
    },
    {
      "cell_type": "code",
      "source": [
        "#Escribe un programa que tome una lista de números ingresados por el usuario y muestre la lista en orden inverso.\n",
        "\n",
        "lista_numeros = []\n",
        "cantidad_numeros = int(input(\"Por favor ingresa la cantidad de numeros que tendrá tu lista: \"))\n",
        "\n",
        "for i in range(1,cantidad_numeros+1):\n",
        "\n",
        "    n = int(input(\"Ingresa un numero: \"))\n",
        "    lista_numeros.append(n)\n",
        "\n",
        "else:\n",
        "\n",
        "    lista_numeros.reverse()\n",
        "    print(\"esta es tu lista establecida en orden inverso\",lista_numeros)"
      ],
      "metadata": {
        "colab": {
          "base_uri": "https://localhost:8080/"
        },
        "id": "YS7U5463oP93",
        "outputId": "47422b22-cb56-4a8d-fcef-627c5221f3e8"
      },
      "execution_count": 3,
      "outputs": [
        {
          "output_type": "stream",
          "name": "stdout",
          "text": [
            "Por favor ingresa la cantidad de numeros que tendrá tu lista: 6\n",
            "Ingresa un numero: 10\n",
            "Ingresa un numero: 20\n",
            "Ingresa un numero: 30\n",
            "Ingresa un numero: 40\n",
            "Ingresa un numero: 50\n",
            "Ingresa un numero: 60\n",
            "esta es tu lista establecida en orden inverso [60, 50, 40, 30, 20, 10]\n"
          ]
        }
      ]
    },
    {
      "cell_type": "code",
      "source": [
        "#Juego de adivinar el número: Crea un programa que genere un número aleatorio entre 1 y 100, y luego le pida al usuario que adivine el número.\n",
        "#El programa debe proporcionar pistas al usuario si el número es mayor o menor que el número objetivo, y seguir solicitando un\n",
        "#nuevo intento hasta que el usuario adivine correctamente.\n",
        "\n",
        "import random\n",
        "\n",
        "n= random.randrange(1,100)\n",
        "print(\"numero generado: \",n)\n",
        "\n",
        "print(\"A continuación se generará un numero aleatorio, trate de adivinar el numero aleatorio generado\")\n",
        "numero = int (input(\"adivina el numero\"))\n",
        "\n",
        "t = True\n",
        "\n",
        "while t == True:\n",
        "\n",
        "\n",
        "    if numero == n:\n",
        "\n",
        "     print(f\"Adivinaste, el número aleatorio es {numero}\")\n",
        "     t = False\n",
        "\n",
        "    elif numero > n:\n",
        "     print(f\"No adivinaste, el numero generado puede ser mas chico al numero {numero}\")\n",
        "\n",
        "    elif numero < n:\n",
        "     print (f\"No adivinaste, el numero generado puede ser mas grande al número {numero}\")\n",
        "\n",
        "     numero = int (input(\"trata de adivinar el numero nuevamente c:\"))\n"
      ],
      "metadata": {
        "colab": {
          "base_uri": "https://localhost:8080/"
        },
        "id": "ZQ0Oc0gFqMJT",
        "outputId": "3662ec34-d80f-4898-9a87-56fae527fe60"
      },
      "execution_count": 39,
      "outputs": [
        {
          "output_type": "stream",
          "name": "stdout",
          "text": [
            "numero generado:  81\n",
            "A continuación se generará un numero aleatorio, trate de adivinar el numero aleatorio generado\n",
            "adivina el numero70\n",
            "No adivinaste, el numero generado puede ser mas grande al número 70\n",
            "trata de adivinar el numero nuevamente c:81\n",
            "Adivinaste, el número aleatorio es 81\n"
          ]
        }
      ]
    },
    {
      "cell_type": "code",
      "source": [
        "#Ejercicio de cálculo de números primos en un rango dado:\n",
        "#Escribe un programa que solicite al usuario un rango de números y muestre todos los números primos dentro de ese rango.\n",
        "\n",
        "def numero_primo(n):\n",
        "\n",
        "    for i in range(2,n):\n",
        "\n",
        "        if n % i == 0:\n",
        "            return False\n",
        "        else:\n",
        "\n",
        "            return True\n",
        "\n",
        "numero_inicio = int(input(\"establezca un numero de inicio para tu rango: \"))\n",
        "numero_fin = int(input(\"establezca un numero final para tu rango: \"))\n",
        "\n",
        "rango_numeros = [i for i in range(numero_inicio,numero_fin+1)]\n",
        "\n",
        "print(\"El rango de números generado es \", rango_numeros)\n",
        "\n",
        "\n",
        "primos= []\n",
        "for i in rango_numeros:\n",
        "\n",
        "    if numero_primo(i) == True:\n",
        "\n",
        "        primos.append(i)\n",
        "\n",
        "\n",
        "\n",
        "print(\"Los números primos dentro de rango de números generado son: \",primos )"
      ],
      "metadata": {
        "colab": {
          "base_uri": "https://localhost:8080/"
        },
        "id": "ZngDEGov7S6m",
        "outputId": "8667e6a9-3a28-40dc-b1cf-1b0f3294f0c1"
      },
      "execution_count": 38,
      "outputs": [
        {
          "output_type": "stream",
          "name": "stdout",
          "text": [
            "establezca un numero de inicio para tu rango: 7\n",
            "establezca un numero final para tu rango: 18\n",
            "El rango de números generado es  [7, 8, 9, 10, 11, 12, 13, 14, 15, 16, 17, 18]\n",
            "Los números primos dentro de rango de números generado son:  [7, 9, 11, 13, 15, 17]\n"
          ]
        }
      ]
    }
  ]
}